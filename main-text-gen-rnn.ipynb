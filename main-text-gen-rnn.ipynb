{
 "cells": [
  {
   "cell_type": "code",
   "execution_count": 1,
   "metadata": {},
   "outputs": [],
   "source": [
    "%load_ext autoreload\n",
    "%autoreload 2"
   ]
  },
  {
   "cell_type": "code",
   "execution_count": 2,
   "metadata": {},
   "outputs": [],
   "source": [
    "import tensorflow as tf\n",
    "import numpy as np\n",
    "import os, time, random, math, re, json, string, sys, datetime, textwrap\n",
    "import matplotlib.pyplot as plt\n",
    "from tqdm import tqdm\n",
    "from tokenizer import tokenizer, detokenizer\n",
    "from MyModel import MyModel, OneStep\n",
    "import keras.backend as K\n",
    "import tensorflow_model_optimization as tfmot"
   ]
  },
  {
   "cell_type": "code",
   "execution_count": 3,
   "metadata": {},
   "outputs": [
    {
     "name": "stdout",
     "output_type": "stream",
     "text": [
      "Compute dtype: float32\n",
      "Variable dtype: float32\n"
     ]
    }
   ],
   "source": [
    "# policy = tf.keras.mixed_precision.Policy('mixed_float16')\n",
    "# tf.keras.mixed_precision.set_global_policy(policy)\n",
    "\n",
    "policy = tf.keras.mixed_precision.global_policy()\n",
    "\n",
    "print('Compute dtype: %s' % policy.compute_dtype)\n",
    "print('Variable dtype: %s' % policy.variable_dtype)"
   ]
  },
  {
   "cell_type": "code",
   "execution_count": 4,
   "metadata": {},
   "outputs": [],
   "source": [
    "# gpu growth\n",
    "gpus = tf.config.experimental.list_physical_devices('GPU')\n",
    "for gpu in gpus:\n",
    "    tf.config.experimental.set_memory_growth(gpu, True)"
   ]
  },
  {
   "cell_type": "code",
   "execution_count": 5,
   "metadata": {},
   "outputs": [
    {
     "data": {
      "text/plain": [
       "(10000000,\n",
       " \"I am a third year (starting fourth year in the fall) PhD student in mathematics. I've passed all qua\",\n",
       " 9134)"
      ]
     },
     "execution_count": 5,
     "metadata": {},
     "output_type": "execute_result"
    }
   ],
   "source": [
    "# Dataset\n",
    "all_text = open(\"tmp/posts.txt\", 'rb').read().decode(encoding='utf-8')\n",
    "all_text = all_text[:10_000_000]\n",
    "\n",
    "len(all_text), all_text[:100], len(all_text.split(\"<SPECIAL:END>\"))"
   ]
  },
  {
   "cell_type": "code",
   "execution_count": 6,
   "metadata": {},
   "outputs": [
    {
     "name": "stdout",
     "output_type": "stream",
     "text": [
      "5002\n"
     ]
    }
   ],
   "source": [
    "all_tokens = tokenizer(all_text)\n",
    "alltokens100k = all_tokens[:500_000]\n",
    "# vocab = list(set(all_tokens[:500_000]))\n",
    "# vocab = list(sorted(vocab, key=alltokens100k.count, reverse=True))\n",
    "vocab = json.load(open(\"models/vocab.json\", 'r'))\n",
    "print(len(vocab))"
   ]
  },
  {
   "cell_type": "code",
   "execution_count": 7,
   "metadata": {},
   "outputs": [],
   "source": [
    "# create tokens to ids and ids to tokens, vocab is sorted by frequency\n",
    "text_vectorization = tf.keras.layers.TextVectorization(\n",
    "    standardize=None,\n",
    "    split=None,\n",
    "    vocabulary=vocab[:5000]\n",
    ")"
   ]
  },
  {
   "cell_type": "code",
   "execution_count": 8,
   "metadata": {},
   "outputs": [
    {
     "name": "stdout",
     "output_type": "stream",
     "text": [
      "vocab size 5000\n"
     ]
    }
   ],
   "source": [
    "print(\"vocab size\", len(text_vectorization.get_vocabulary()))\n",
    "# The maximum length sentence we want for a single input in characters\n",
    "seq_length = 150\n",
    "all_ids = text_vectorization(all_tokens)\n",
    "ds = tf.data.Dataset.from_tensor_slices(all_ids)\n",
    "sequences = ds.batch(seq_length + 1, drop_remainder=True)\n",
    "\n",
    "def split_input_target(chunk):\n",
    "    input_text = chunk[:-1]\n",
    "    target_text = chunk[1:]\n",
    "    return input_text, target_text\n",
    "\n",
    "ds = sequences.map(split_input_target)\n",
    "\n",
    "# Batch size\n",
    "BATCH_SIZE = 256\n",
    "ds = ds.repeat(-1).shuffle(10000).batch(BATCH_SIZE, drop_remainder=True)"
   ]
  },
  {
   "cell_type": "code",
   "execution_count": 9,
   "metadata": {},
   "outputs": [
    {
     "name": "stdout",
     "output_type": "stream",
     "text": [
      "\n",
      "I'm looking for a lot in an answer. It should:\n",
      "\n",
      "be short\n",
      "open the [UNK] person's eyes\n",
      "allow for a [UNK] exit by both parties\n",
      "\n",
      "Here is an example of the kind of answer I'm looking for:\n",
      "\n",
      "Question posed by a white person to a [UNK] black [UNK]:\" What country were you born in?\"\n",
      "Answer:\" Long [unk].\"\n",
      "\n",
      "Edit: Please assume there was no hidden [UNK]. Just some combination of [UNK] variety [UNK] and [UNK] thinking.\n",
      "Typical scenarios: [UNK] [UNK]... parent meeting at your [UNK] school... standing in line at the [UNK] store....\n",
      "Edit 9 / 18:\n"
     ]
    }
   ],
   "source": [
    "for example in ds.take(1):\n",
    "    print(detokenizer(np.array(text_vectorization.get_vocabulary())[example[0][0].numpy()]))"
   ]
  },
  {
   "cell_type": "code",
   "execution_count": 10,
   "metadata": {},
   "outputs": [
    {
     "name": "stdout",
     "output_type": "stream",
     "text": [
      "Model: \"my_model\"\n",
      "_________________________________________________________________\n",
      " Layer (type)                Output Shape              Param #   \n",
      "=================================================================\n",
      " embedding (Embedding)       multiple                  1280000   \n",
      "                                                                 \n",
      " lstm (LSTM)                 multiple                  18882560  \n",
      "                                                                 \n",
      " dense (Dense)               multiple                  10245000  \n",
      "                                                                 \n",
      "=================================================================\n",
      "Total params: 30,407,560\n",
      "Trainable params: 30,407,560\n",
      "Non-trainable params: 0\n",
      "_________________________________________________________________\n"
     ]
    }
   ],
   "source": [
    "# Length of the vocabulary in StringLookup Layer\n",
    "vocab_size = len(text_vectorization.get_vocabulary())\n",
    "\n",
    "# The embedding dimension\n",
    "embedding_dim = 256\n",
    "\n",
    "# Number of RNN units\n",
    "rnn_units = 2048\n",
    "\n",
    "model = MyModel(vocab_size=vocab_size, embedding_dim=embedding_dim, rnn_units=rnn_units)\n",
    "model.build(tf.TensorShape([None, None]))\n",
    "model.summary()"
   ]
  },
  {
   "cell_type": "code",
   "execution_count": 11,
   "metadata": {},
   "outputs": [
    {
     "data": {
      "text/plain": [
       "<tf.Tensor: shape=(1, 3, 5000), dtype=float32, numpy=\n",
       "array([[[-1.2481312e-03,  5.1734853e-05,  7.7220460e-04, ...,\n",
       "          1.3093359e-03,  7.3006219e-04,  2.5928987e-03],\n",
       "        [ 2.8894821e-04, -6.5484259e-04, -7.7146059e-04, ...,\n",
       "         -1.1503412e-03,  4.4443540e-04,  1.9332578e-03],\n",
       "        [-9.7052840e-04, -8.2985597e-04,  2.5322498e-04, ...,\n",
       "         -1.0170377e-03, -4.9060740e-04,  2.7268527e-03]]], dtype=float32)>"
      ]
     },
     "execution_count": 11,
     "metadata": {},
     "output_type": "execute_result"
    }
   ],
   "source": [
    "model(tf.constant([[1, 2, 3]]))"
   ]
  },
  {
   "cell_type": "code",
   "execution_count": 12,
   "metadata": {},
   "outputs": [
    {
     "name": "stdout",
     "output_type": "stream",
     "text": [
      "(256, 150, 5000) # (batch_size, sequence_length, vocab_size)\n",
      "Model: \"my_model\"\n",
      "_________________________________________________________________\n",
      " Layer (type)                Output Shape              Param #   \n",
      "=================================================================\n",
      " embedding (Embedding)       multiple                  1280000   \n",
      "                                                                 \n",
      " lstm (LSTM)                 multiple                  18882560  \n",
      "                                                                 \n",
      " dense (Dense)               multiple                  10245000  \n",
      "                                                                 \n",
      "=================================================================\n",
      "Total params: 30,407,560\n",
      "Trainable params: 30,407,560\n",
      "Non-trainable params: 0\n",
      "_________________________________________________________________\n"
     ]
    }
   ],
   "source": [
    "\n",
    "for input_example_batch, target_example_batch in ds.take(1):\n",
    "    example_batch_predictions = model(input_example_batch)\n",
    "    print(example_batch_predictions.shape, \"# (batch_size, sequence_length, vocab_size)\")\n",
    "\n",
    "model.summary()"
   ]
  },
  {
   "cell_type": "code",
   "execution_count": 13,
   "metadata": {},
   "outputs": [
    {
     "data": {
      "image/png": "[encoded data removed]",
      "text/plain": [
       "<IPython.core.display.Image object>"
      ]
     },
     "execution_count": 13,
     "metadata": {},
     "output_type": "execute_result"
    }
   ],
   "source": [
    "# does not work so this is a hack\n",
    "def plot_model_works(model):\n",
    "    # inp is cop of input_example_batch\n",
    "    inp = tf.keras.layers.Input(shape=[None], dtype=tf.int64)\n",
    "    model1 = tf.keras.Model(inp, model.call(inp))\n",
    "    return tf.keras.utils.plot_model(model1, show_shapes=True)\n",
    "\n",
    "\n",
    "plot_model_works(model)"
   ]
  },
  {
   "cell_type": "code",
   "execution_count": 14,
   "metadata": {},
   "outputs": [
    {
     "data": {
      "text/plain": [
       "('float32', 'float32', 'float32')"
      ]
     },
     "execution_count": 14,
     "metadata": {},
     "output_type": "execute_result"
    }
   ],
   "source": [
    "model.layers[0].dtype, model.layers[1].dtype, model.layers[2].dtype"
   ]
  },
  {
   "cell_type": "code",
   "execution_count": 15,
   "metadata": {},
   "outputs": [
    {
     "name": "stdout",
     "output_type": "stream",
     "text": [
      "Input:\n",
      " Done with my current field? If not, how can one deal with the impression of failure and regret?\n",
      "\n",
      "(English is not my first language, any edits are [UNK] welcomed) <SPECIAL:END> There is an [UNK] sharing the office with me. Once day his Pi came to talk to him. Since there were only 3 of us in the office, although I didn't pay attention, their conversation just automatically went into my mind.\n",
      "\n",
      "The story is like this: the [UNK] had worked for 2 months, and he was going to leave. However, he would not let the university know that he was leaving. Instead, the Pi would tell the university that the [UNK] would work for another month.\n",
      "\n",
      "Next Char Predictions:\n",
      " Subfield 25 push refrain bound bound bound itself entirely everyone direction water departmental youtube min collaborating sexual meetings content handwritten was ask course mentioning course reviewer's “ “ “ serving tax researcher r luck i've i've scientists amazon count wait undergrads exception non seemingly india note failed failed consistent consistent art art activities magnitude syllabus entirely entirely capacity employee pure gaps political political political political suitable collaborations collaborations should've atmosphere industry holding race defenses it'll disclaimer it'll it'll “ allowing groups groups algebra prices capacity sum sum follow materials neighboring workload passages passages samples watching watching host frankly itself frustrated frustrated consider consider ground suspect abc “ state still is refrain databases discovered guidelines believe quantity quantity discord retraction external independent careers november thesis recruitment used gauge gauge copy-pasted used legally participated respect next respected case positive common least develop teaches gauge indication penalties choose 8-9 mathematica considering unexpectedly limited\n"
     ]
    }
   ],
   "source": [
    "print(\"Input:\\n\", detokenizer(np.array(text_vectorization.get_vocabulary())[input_example_batch[0].numpy()]))\n",
    "print()\n",
    "print(\"Next Char Predictions:\\n\", detokenizer(np.array(text_vectorization.get_vocabulary())[np.argmax(example_batch_predictions[0], axis=-1)]))"
   ]
  },
  {
   "cell_type": "code",
   "execution_count": 16,
   "metadata": {},
   "outputs": [
    {
     "name": "stdout",
     "output_type": "stream",
     "text": [
      "Prediction shape:  (256, 150, 5000)  # (batch_size, sequence_length, vocab_size)\n",
      "Mean loss:         tf.Tensor(8.517181, shape=(), dtype=float32)\n",
      "Exp of mean loss:  4999.941\n",
      "Vocab size:        5000\n"
     ]
    }
   ],
   "source": [
    "loss = tf.losses.SparseCategoricalCrossentropy(from_logits=True)\n",
    "\n",
    "def loss(labels, logits):\n",
    "    # scce but capped at 2000.0 to avoid exploding gradients\n",
    "    loss_val = tf.keras.losses.sparse_categorical_crossentropy(labels, logits, from_logits=True)\n",
    "    loss_val = tf.clip_by_value(loss_val, clip_value_min=-1000.0, clip_value_max=2000.0)\n",
    "    return tf.reduce_mean(loss_val)\n",
    "\n",
    "\n",
    "example_batch_mean_loss = loss(target_example_batch, example_batch_predictions)\n",
    "print(\"Prediction shape: \", example_batch_predictions.shape, \" # (batch_size, sequence_length, vocab_size)\")\n",
    "print(\"Mean loss:        \", example_batch_mean_loss)\n",
    "print(\"Exp of mean loss: \", np.exp(example_batch_mean_loss))\n",
    "print(\"Vocab size:       \", vocab_size)\n",
    "\n",
    "optimizer = tf.optimizers.Adam(learning_rate=tf.keras.optimizers.schedules.ExponentialDecay(0.003, 300, 0.95))\n",
    "\n",
    "model.compile(optimizer=optimizer, loss=loss)"
   ]
  },
  {
   "cell_type": "code",
   "execution_count": 34,
   "metadata": {},
   "outputs": [
    {
     "name": "stdout",
     "output_type": "stream",
     "text": [
      "10/10 [==============================] - 17s 2s/step - loss: 0.6322\n"
     ]
    }
   ],
   "source": [
    "# Directory where the checkpoints will be saved\n",
    "checkpoint_dir = './tmp/training_checkpoints'\n",
    "# Name of the checkpoint files\n",
    "checkpoint_prefix = os.path.join(checkpoint_dir, \"ckpt_{epoch}\")\n",
    "\n",
    "checkpoint_callback=tf.keras.callbacks.ModelCheckpoint(\n",
    "    filepath=checkpoint_prefix,\n",
    "    save_weights_only=True)\n",
    "\n",
    "\n",
    "# Set epochs to 50 and steps_per_epoch to 600 to replicate the results\n",
    "history = model.fit(ds, epochs=1, steps_per_epoch=10, callbacks=[checkpoint_callback])"
   ]
  },
  {
   "cell_type": "code",
   "execution_count": 35,
   "metadata": {},
   "outputs": [],
   "source": [
    "# model.save_weights(\"tmp/weights3.h5\")"
   ]
  },
  {
   "cell_type": "code",
   "execution_count": 36,
   "metadata": {},
   "outputs": [],
   "source": [
    "# model.load_weights(\"tmp/weights2.h5\")\n",
    "# model.load_weights(\"models/model1-test2-backup/weights.h5\")"
   ]
  },
  {
   "cell_type": "code",
   "execution_count": 37,
   "metadata": {},
   "outputs": [
    {
     "data": {
      "image/png": "[encoded data removed]",
      "text/plain": [
       "<Figure size 432x288 with 1 Axes>"
      ]
     },
     "metadata": {
      "needs_background": "light"
     },
     "output_type": "display_data"
    }
   ],
   "source": [
    "# plot loss\n",
    "plt.plot(history.history['loss'])\n",
    "plt.title('model loss')\n",
    "plt.ylabel('loss')\n",
    "plt.xlabel('epoch')\n",
    "plt.show()"
   ]
  },
  {
   "cell_type": "code",
   "execution_count": 38,
   "metadata": {},
   "outputs": [
    {
     "name": "stdout",
     "output_type": "stream",
     "text": [
      "20/20 [==============================] - 12s 511ms/step - loss: 0.8702\n"
     ]
    },
    {
     "data": {
      "text/plain": [
       "0.8701754808425903"
      ]
     },
     "execution_count": 38,
     "metadata": {},
     "output_type": "execute_result"
    }
   ],
   "source": [
    "model.evaluate(ds, steps=20)"
   ]
  },
  {
   "cell_type": "code",
   "execution_count": 39,
   "metadata": {},
   "outputs": [
    {
     "name": "stdout",
     "output_type": "stream",
     "text": [
      "OneStep.__init__\n"
     ]
    }
   ],
   "source": [
    "one_step_model = OneStep(model)"
   ]
  },
  {
   "cell_type": "code",
   "execution_count": 40,
   "metadata": {},
   "outputs": [],
   "source": [
    "MODEL_NAME = \"models/model1-test2\"\n",
    "\n",
    "# make sure the directory exists\n",
    "os.makedirs(MODEL_NAME, exist_ok=True)\n",
    "\n",
    "model.save_weights(f\"{MODEL_NAME}/weights.h5\")\n",
    "\n",
    "with open(f\"{MODEL_NAME}/vocab.json\", \"w\") as f:\n",
    "    f.write(json.dumps(text_vectorization.get_vocabulary()))\n",
    "\n",
    "with open(f\"{MODEL_NAME}/meta.json\", \"w\") as f:\n",
    "    f.write(json.dumps({\n",
    "        \"embedding_dim\": embedding_dim,\n",
    "        \"rnn_units\": rnn_units,\n",
    "        \"vocab_size\": vocab_size,\n",
    "    }))"
   ]
  },
  {
   "cell_type": "code",
   "execution_count": 41,
   "metadata": {},
   "outputs": [
    {
     "name": "stderr",
     "output_type": "stream",
     "text": [
      "100%|██████████| 100/100 [00:01<00:00, 68.66it/s]\n"
     ]
    },
    {
     "name": "stdout",
     "output_type": "stream",
     "text": [
      "\n",
      "I recently published my first research paper and it was accepted in a peer-reviewed journal in the field of Ai. I worked in private engineering in Europe (mostly in area, linear algebra, coding, and field topics that I have never seen on a topic that is required in the field on research and also engineering). I am worried about the quality of the world at the moment, but I know that this source of my ability of doing research is for all of those fields, being a big\"\n",
      "--------------------------------------------------------------------------------\n",
      "I recently published my first research paper and it was accepted in a peer-reviewed\n",
      "journal in the field of Ai. I worked in private engineering in Europe (mostly in area,\n",
      "linear algebra, coding, and field topics that I have never seen on a topic that is\n",
      "required in the field on research and also engineering). I am worried about the quality of\n",
      "the world at the moment, but I know that this source of my ability of doing research is\n",
      "for all of those fields, being a big\"\n",
      "\n",
      "Run time: 2.3109986782073975\n"
     ]
    }
   ],
   "source": [
    "def generate_text(starting, num_generate):\n",
    "    start = time.time()\n",
    "    states = None\n",
    "    next_char = text_vectorization(tokenizer(starting))\n",
    "    result = next_char.numpy()\n",
    "\n",
    "    for n in tqdm(range(num_generate)):\n",
    "        next_char = tf.expand_dims(next_char, 0)\n",
    "        next_char, states = one_step_model.generate_one_step(next_char, states=states, temperature=0.7)\n",
    "        result = np.append(result, next_char.numpy(), axis=0)\n",
    "    result = detokenizer([text_vectorization.get_vocabulary()[r] for r in result])\n",
    "    end = time.time()\n",
    "    print()\n",
    "    print(result)\n",
    "    print(\"-\" * 80)\n",
    "    w = textwrap.TextWrapper(width=90,break_long_words=True,replace_whitespace=False)\n",
    "    print(w.fill(result))\n",
    "    print(\"\\nRun time:\", end - start)\n",
    "\n",
    "generate_text(\"I recently published my\", 100)"
   ]
  },
  {
   "cell_type": "code",
   "execution_count": 42,
   "metadata": {},
   "outputs": [
    {
     "data": {
      "text/plain": [
       "5000"
      ]
     },
     "execution_count": 42,
     "metadata": {},
     "output_type": "execute_result"
    }
   ],
   "source": [
    "len(text_vectorization.get_vocabulary())"
   ]
  }
 ],
 "metadata": {
  "kernelspec": {
   "display_name": "tf",
   "language": "python",
   "name": "python3"
  },
  "language_info": {
   "codemirror_mode": {
    "name": "ipython",
    "version": 3
   },
   "file_extension": ".py",
   "mimetype": "text/x-python",
   "name": "python",
   "nbconvert_exporter": "python",
   "pygments_lexer": "ipython3",
   "version": "3.9.13"
  },
  "orig_nbformat": 4
 },
 "nbformat": 4,
 "nbformat_minor": 2
}
