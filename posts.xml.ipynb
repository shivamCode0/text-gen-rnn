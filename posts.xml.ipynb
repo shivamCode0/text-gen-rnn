{
 "cells": [
  {
   "cell_type": "code",
   "execution_count": 15,
   "metadata": {},
   "outputs": [],
   "source": [
    "import pandas as pd\n",
    "from io import StringIO\n",
    "from html.parser import HTMLParser\n"
   ]
  },
  {
   "cell_type": "code",
   "execution_count": 4,
   "metadata": {},
   "outputs": [],
   "source": [
    "df = pd.read_xml('tmp/Posts.xml', xpath='//posts/row')\n",
    "df_backup = df.copy()"
   ]
  },
  {
   "cell_type": "code",
   "execution_count": 22,
   "metadata": {},
   "outputs": [],
   "source": [
    "df = df_backup.copy()\n",
    "df = df[(df[\"Score\"] > 0) & (df[\"PostTypeId\"] == 1)].sort_values(by=\"Score\", ascending=False)\n",
    "\n",
    "# body is html, so we need to strip the tags\n",
    "\n",
    "class MLStripper(HTMLParser):\n",
    "    def __init__(self):\n",
    "        super().__init__()\n",
    "        self.reset()\n",
    "        self.strict = False\n",
    "        self.convert_charrefs= True\n",
    "        self.text = StringIO()\n",
    "    def handle_data(self, d):\n",
    "        self.text.write(d)\n",
    "    def get_data(self):\n",
    "        return self.text.getvalue()\n",
    "\n",
    "def strip_tags(html):\n",
    "    s = MLStripper()\n",
    "    s.feed(html)\n",
    "    return s.get_data()\n",
    "\n",
    "df[\"Body\"] = df[\"Body\"].apply(strip_tags)\n",
    "\n",
    "# strip at start and end\n",
    "df[\"Body\"] = df[\"Body\"].str.strip()\n",
    "\n",
    "# add <SPECIAL:END> to end of each post\n",
    "df[\"Body\"] = df[\"Body\"] + \" <SPECIAL:END>\"\n",
    "\n",
    "# save body as posts.txt\n",
    "with open(\"tmp/posts.txt\", \"w\", encoding=\"utf-8\") as f:\n",
    "    for post in df[\"Body\"]:\n",
    "        f.write(post)"
   ]
  }
 ],
 "metadata": {
  "kernelspec": {
   "display_name": "tf",
   "language": "python",
   "name": "python3"
  },
  "language_info": {
   "codemirror_mode": {
    "name": "ipython",
    "version": 3
   },
   "file_extension": ".py",
   "mimetype": "text/x-python",
   "name": "python",
   "nbconvert_exporter": "python",
   "pygments_lexer": "ipython3",
   "version": "3.9.13"
  },
  "orig_nbformat": 4
 },
 "nbformat": 4,
 "nbformat_minor": 2
}
